{
 "cells": [
  {
   "cell_type": "code",
   "execution_count": 44,
   "metadata": {},
   "outputs": [
    {
     "name": "stdout",
     "output_type": "stream",
     "text": [
      "1. Добавить покупку\n",
      "2. История покупок\n",
      "3. Выход\n",
      "Неправильно введены данные\n",
      "1. Добавить покупку\n",
      "2. История покупок\n",
      "3. Выход\n",
      "1. Добавить покупку\n",
      "2. История покупок\n",
      "3. Выход\n",
      "История покупок:\n",
      "макароны: 87\n",
      "соль: 45\n",
      "молоко: 98\n",
      "чай: 386\n",
      "хлеб: 90\n",
      "Общая стоимость покупок: 792\n",
      "1. Добавить покупку\n",
      "2. История покупок\n",
      "3. Выход\n"
     ]
    }
   ],
   "source": [
    "import os\n",
    "import pickle\n",
    "import json\n",
    "\n",
    "FILE_NAME = 'orders_obj.json'\n",
    "\n",
    "# Инициализация переменных\n",
    "orders = {}\n",
    "cost = 0\n",
    "\n",
    "if os.path.exists(FILE_NAME) and os.path.getsize(FILE_NAME) > 0:\n",
    "    with open(FILE_NAME, 'r') as f:\n",
    "        loaded_data = json.load(f)\n",
    "        # Проверка на корректность загруженных данных\n",
    "        if isinstance(loaded_data, list) and len(loaded_data) == 2 and isinstance(loaded_data[0], dict) and isinstance(loaded_data[1], int):\n",
    "            orders = loaded_data[0]\n",
    "            cost = loaded_data[1]\n",
    "        else:\n",
    "            print(\"Ошибка: данные в файле повреждены. Инициализация пустыми значениями.\")\n",
    "            orders = {}\n",
    "            cost = 0\n",
    "# Основной цикл программы\n",
    "while True:\n",
    "    print('1. Добавить покупку')\n",
    "    print('2. История покупок')\n",
    "    print('3. Выход')\n",
    "    choice = input('Введите номер: ')\n",
    "\n",
    "    if choice == '1':\n",
    "        name = input('Введите название: ')\n",
    "        price = int(input('Введите цену: '))\n",
    "        orders[name] = price\n",
    "        cost += price\n",
    "\n",
    "    elif choice == '2':\n",
    "        if orders:\n",
    "            print(\"История покупок:\")\n",
    "            for name, price in orders.items():\n",
    "                print(f\"{name}: {price}\")\n",
    "            print(f\"Общая стоимость покупок: {cost}\")\n",
    "        else:\n",
    "            print(\"История заказов пуста.\")\n",
    "\n",
    "    elif choice == '3':\n",
    "       # Сохранение данных в файл перед выходом\n",
    "        with open(FILE_NAME, 'wb') as f:\n",
    "            json_str = json.dumps((orders, cost))\n",
    "            json_bytes = json_str.encode('utf-8')\n",
    "            f.write(json_bytes)\n",
    "        break\n",
    "\n",
    "    else:\n",
    "        print('Неправильно введены данные')\n",
    "        continue\n",
    "\n",
    "\n",
    "\n",
    "\n"
   ]
  },
  {
   "cell_type": "code",
   "execution_count": 45,
   "metadata": {},
   "outputs": [
    {
     "name": "stdout",
     "output_type": "stream",
     "text": [
      "[{'макароны': 87, 'соль': 45, 'молоко': 98, 'чай': 386, 'хлеб': 90}, 792]\n"
     ]
    }
   ],
   "source": [
    "import pickle\n",
    "with open('orders_obj.json', 'rb') as f:\n",
    "    result = json.load(f)\n",
    "print(result)    "
   ]
  },
  {
   "cell_type": "code",
   "execution_count": null,
   "metadata": {},
   "outputs": [],
   "source": []
  }
 ],
 "metadata": {
  "kernelspec": {
   "display_name": "Python 3",
   "language": "python",
   "name": "python3"
  },
  "language_info": {
   "codemirror_mode": {
    "name": "ipython",
    "version": 3
   },
   "file_extension": ".py",
   "mimetype": "text/x-python",
   "name": "python",
   "nbconvert_exporter": "python",
   "pygments_lexer": "ipython3",
   "version": "3.12.3"
  }
 },
 "nbformat": 4,
 "nbformat_minor": 2
}
